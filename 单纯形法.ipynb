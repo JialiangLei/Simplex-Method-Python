{
 "cells": [
  {
   "cell_type": "code",
   "execution_count": null,
   "id": "974eedb3",
   "metadata": {},
   "outputs": [],
   "source": [
    "import numpy as np\n",
    "xnum = int(input('输入标准化后变量个数'))\n",
    "conditionnum = int(input('输入约束条件个数'))\n",
    "coefficient = input('输入标准化后目标函数各变量的系数').split(',')\n",
    "coefficient = [float(x) for x in coefficient]\n",
    "b = input('输入约束条件的值').split(',')\n",
    "b = [float(x) for x in b]\n",
    "c = [-1000,-1000,-1000]\n",
    "def Base(conditionnum, xnum):#计算初始基\n",
    "    base = []\n",
    "    for basenum in range(conditionnum):\n",
    "        base.append(xnum+1+basenum)\n",
    "    return base\n",
    "def CreateMartrix(conditionnum, b):#初始增广矩阵\n",
    "    martrixlist = []\n",
    "    for i in range(conditionnum):\n",
    "        row = input('输入约束条件系数').split(',')\n",
    "        row = [float(x) for x in row]\n",
    "        row.append(b[i])\n",
    "        martrixlist.append(row)\n",
    "    martrix = np.array(martrixlist)\n",
    "    return martrix\n",
    "def TestNumLst(coefficient, c, martrix):#检验数计算\n",
    "    testnumlst = []\n",
    "    for m in range(len(coefficient)):\n",
    "        lst = 0\n",
    "        for n in range(len(c)):\n",
    "            lst = lst + martrix[n, m] * c[n]\n",
    "        testnum = coefficient[m] - lst\n",
    "        testnumlst.append(testnum)\n",
    "    return testnumlst\n",
    "def TestNumJudge(testnumlst):#判断检验数\n",
    "    for judge in testnumlst:\n",
    "        if judge > 0:\n",
    "            return False\n",
    "def IntoBase(testnumlst):#找出入基变量索引\n",
    "    testnumlst1 = testnumlst[:]\n",
    "    for passnum in range(len(testnumlst)-1, 0, -1):\n",
    "        for j in range(passnum):\n",
    "            if testnumlst[j] > testnumlst[j+1]:\n",
    "                testnumlst[j],testnumlst[j+1] = testnumlst[j+1],testnumlst[j]\n",
    "    return testnumlst1.index(testnumlst[-1])\n",
    "def SitaLst(b,martrix,intobase,base):#算出sita值\n",
    "    dividendlst = martrix[:,intobase]\n",
    "    sitalst = []\n",
    "    for k in range(len(base)):\n",
    "        if dividendlst[k] > 0:\n",
    "            sita = b[k] / dividendlst[k]\n",
    "        else:\n",
    "            sita = 1000\n",
    "        sitalst.append(sita)\n",
    "    return sitalst\n",
    "def SitaJudge(sitalst):#无界解检验\n",
    "    ljl = 0\n",
    "    for sitajudge in sitalst:\n",
    "        if 0 < sitajudge and sitajudge < 1000:\n",
    "            ljl = ljl+1\n",
    "    if ljl==0:\n",
    "        return False\n",
    "    else:\n",
    "        return True\n",
    "def OutOfBase(sitalst, base):#找出出基变量索引\n",
    "    sitalst1 = sitalst[:]\n",
    "    for sitanum in range(len(sitalst)-1, 0, -1):\n",
    "        for l in range(sitanum):\n",
    "            if sitalst[l] > sitalst[l+1]:\n",
    "                sitalst[l],sitalst[l+1] = sitalst[l+1],sitalst[l]\n",
    "    outofsita = sitalst1.index(sitalst[0])\n",
    "    outofbase = outofsita\n",
    "    return outofbase\n",
    "def MartrixChange(martrix, outofbase, intobase):#增广矩阵行变换\n",
    "    k = 1 / martrix[outofbase, intobase]\n",
    "    shape = martrix.shape\n",
    "    martrix[outofbase,:] = martrix[outofbase,:]*k\n",
    "    for rowchange in range(shape[0]):\n",
    "        if rowchange != outofbase:\n",
    "            k1 = martrix[rowchange, intobase]\n",
    "            martrix[rowchange,:] = martrix[rowchange,:] - martrix[outofbase,:]*k1\n",
    "            \n",
    "        \n",
    "    martrixchange = martrix\n",
    "    return martrixchange\n",
    "\n",
    "def Judge1(xnum,base):#无可行解检验\n",
    "    for judgement1 in base:\n",
    "        if judgement1 > xnum:\n",
    "            return False\n",
    "def Judge2(testnumlst,base):#无穷多最优解检验\n",
    "    for judgement2 in base:\n",
    "        testnumlst[judgement2-1] = -1\n",
    "    for judgement3 in testnumlst:\n",
    "        if judgement3 == 0:\n",
    "            return False\n",
    "martrix = CreateMartrix(conditionnum, b)#开始主程序\n",
    "base = Base(conditionnum, xnum)\n",
    "while True:\n",
    "    \n",
    "    testnumlst = TestNumLst(coefficient, c, martrix)#计算检验数\n",
    "    print(testnumlst)\n",
    "    if TestNumJudge(testnumlst)==False:        \n",
    "        intobase = IntoBase(testnumlst)\n",
    "        sitalst = SitaLst(b,martrix,intobase,base)\n",
    "        if SitaJudge(sitalst) == False:\n",
    "            print('无界解')\n",
    "            break\n",
    "        else:\n",
    "            \n",
    "            outofbase = OutOfBase(sitalst, base)\n",
    "            print(outofbase)\n",
    "           \n",
    "            base[outofbase] = intobase + 1  #基更换\n",
    "            print(base)\n",
    "            martrix = MartrixChange(martrix, outofbase, intobase)\n",
    "            print(martrix)\n",
    "            c[outofbase] = coefficient[intobase]  #c更换\n",
    "            print(c)\n",
    "            b = list(martrix[:,-1])#b更换\n",
    "            print('结束一次')\n",
    "    else:\n",
    "        if Judge1(xnum,base)==False:\n",
    "            print(base)\n",
    "            print('检验数小于零')\n",
    "            print('无可行解')\n",
    "            break\n",
    "        else:\n",
    "            if Judge2(testnumlst,base)==False:\n",
    "                print('无穷多最优解')\n",
    "                print(martrix[:,-1])\n",
    "                print(base)\n",
    "                break\n",
    "            else:\n",
    "                print(martrix[:,-1])\n",
    "                print(base)\n",
    "                break"
   ]
  },
  {
   "cell_type": "code",
   "execution_count": 1,
   "id": "eebf30d7",
   "metadata": {},
   "outputs": [
    {
     "ename": "NameError",
     "evalue": "name 'CreateMartrix' is not defined",
     "output_type": "error",
     "traceback": [
      "\u001b[1;31m---------------------------------------------------------------------------\u001b[0m",
      "\u001b[1;31mNameError\u001b[0m                                 Traceback (most recent call last)",
      "\u001b[1;32m~\\AppData\\Local\\Temp\\ipykernel_27076\\2855095980.py\u001b[0m in \u001b[0;36m<module>\u001b[1;34m\u001b[0m\n\u001b[0;32m      2\u001b[0m \u001b[0mconditionnum\u001b[0m \u001b[1;33m=\u001b[0m \u001b[1;36m3\u001b[0m\u001b[1;33m\u001b[0m\u001b[1;33m\u001b[0m\u001b[0m\n\u001b[0;32m      3\u001b[0m \u001b[0mxnum\u001b[0m\u001b[1;33m=\u001b[0m\u001b[1;36m4\u001b[0m\u001b[1;33m\u001b[0m\u001b[1;33m\u001b[0m\u001b[0m\n\u001b[1;32m----> 4\u001b[1;33m \u001b[0mmartrix\u001b[0m \u001b[1;33m=\u001b[0m \u001b[0mCreateMartrix\u001b[0m\u001b[1;33m(\u001b[0m\u001b[0mconditionnum\u001b[0m\u001b[1;33m,\u001b[0m \u001b[0mb\u001b[0m\u001b[1;33m)\u001b[0m\u001b[1;31m#开始主程序\u001b[0m\u001b[1;33m\u001b[0m\u001b[1;33m\u001b[0m\u001b[0m\n\u001b[0m\u001b[0;32m      5\u001b[0m \u001b[0mbase\u001b[0m \u001b[1;33m=\u001b[0m \u001b[0mBase\u001b[0m\u001b[1;33m(\u001b[0m\u001b[0mconditionnum\u001b[0m\u001b[1;33m,\u001b[0m \u001b[0mxnum\u001b[0m\u001b[1;33m)\u001b[0m\u001b[1;33m\u001b[0m\u001b[1;33m\u001b[0m\u001b[0m\n\u001b[0;32m      6\u001b[0m \u001b[0mprint\u001b[0m\u001b[1;33m(\u001b[0m\u001b[0mmartrix\u001b[0m\u001b[1;33m)\u001b[0m\u001b[1;33m\u001b[0m\u001b[1;33m\u001b[0m\u001b[0m\n",
      "\u001b[1;31mNameError\u001b[0m: name 'CreateMartrix' is not defined"
     ]
    }
   ],
   "source": [
    "b=[15,20,10]\n",
    "conditionnum = 3\n",
    "xnum=4\n",
    "martrix = CreateMartrix(conditionnum, b)#开始主程序\n",
    "base = Base(conditionnum, xnum)\n",
    "print(martrix)\n",
    "print(base)"
   ]
  },
  {
   "cell_type": "code",
   "execution_count": 6,
   "id": "59b832c9",
   "metadata": {},
   "outputs": [
    {
     "name": "stdout",
     "output_type": "stream",
     "text": [
      "[4001.0, 5002.0, 9003.0, 999.0]\n"
     ]
    }
   ],
   "source": [
    "c = [-1000,-1000,-1000]\n",
    "coefficient=[1,2,3,-1]\n",
    "testnumlst = TestNumLst(coefficient, c, martrix)\n",
    "print(testnumlst)"
   ]
  },
  {
   "cell_type": "code",
   "execution_count": 7,
   "id": "63c61c96",
   "metadata": {},
   "outputs": [
    {
     "name": "stdout",
     "output_type": "stream",
     "text": [
      "True\n"
     ]
    }
   ],
   "source": [
    "print(TestNumJudge(testnumlst)==False)"
   ]
  },
  {
   "cell_type": "code",
   "execution_count": 8,
   "id": "5e9664c6",
   "metadata": {},
   "outputs": [
    {
     "name": "stdout",
     "output_type": "stream",
     "text": [
      "2\n"
     ]
    }
   ],
   "source": [
    "intobase = IntoBase(testnumlst)\n",
    "print(intobase)"
   ]
  },
  {
   "cell_type": "code",
   "execution_count": 9,
   "id": "4ce47988",
   "metadata": {},
   "outputs": [
    {
     "name": "stdout",
     "output_type": "stream",
     "text": [
      "[5.0, 4.0, 10.0]\n"
     ]
    }
   ],
   "source": [
    "base=[5,6,7]\n",
    "sitalst = SitaLst(b,martrix,intobase,base)\n",
    "print(sitalst)"
   ]
  },
  {
   "cell_type": "code",
   "execution_count": 10,
   "id": "710250be",
   "metadata": {},
   "outputs": [
    {
     "name": "stdout",
     "output_type": "stream",
     "text": [
      "False\n"
     ]
    }
   ],
   "source": [
    "print(SitaJudge(sitalst) == False)"
   ]
  },
  {
   "cell_type": "code",
   "execution_count": 11,
   "id": "dfef2f66",
   "metadata": {},
   "outputs": [
    {
     "name": "stdout",
     "output_type": "stream",
     "text": [
      "1\n"
     ]
    }
   ],
   "source": [
    "outofbase = OutOfBase(sitalst, base)\n",
    "print(outofbase)"
   ]
  },
  {
   "cell_type": "code",
   "execution_count": 12,
   "id": "fc6e101e",
   "metadata": {},
   "outputs": [
    {
     "name": "stdout",
     "output_type": "stream",
     "text": [
      "[5, 3, 7]\n"
     ]
    }
   ],
   "source": [
    "base[outofbase] = intobase + 1  #基更换\n",
    "print(base)"
   ]
  },
  {
   "cell_type": "code",
   "execution_count": 13,
   "id": "439f8bd8",
   "metadata": {},
   "outputs": [
    {
     "name": "stdout",
     "output_type": "stream",
     "text": [
      "[[ -5.   -1.  -12.    0.  -45. ]\n",
      " [  0.4   0.2   1.    0.    4. ]\n",
      " [  0.6   1.8   0.    1.    6. ]]\n"
     ]
    }
   ],
   "source": [
    "martrix = MartrixChange(martrix, outofbase, intobase)\n",
    "print(martrix)"
   ]
  },
  {
   "cell_type": "code",
   "execution_count": 22,
   "id": "2abdd7c6",
   "metadata": {},
   "outputs": [
    {
     "name": "stdout",
     "output_type": "stream",
     "text": [
      "[[1 2 0 0 3]\n",
      " [0 0 1 0 4]\n",
      " [1 2 0 1 6]]\n"
     ]
    }
   ],
   "source": [
    "martrix = np.array([[1,2,3,0,15],[2,1,5,0,20],[1,2,1,1,10]])\n",
    "outofbase=1\n",
    "intobase=2\n",
    "def MartrixChange(martrix, outofbase, intobase):#增广矩阵行变换\n",
    "    k = 1 / martrix[outofbase, intobase]\n",
    "    shape = martrix.shape\n",
    "    martrix[outofbase,:] = martrix[outofbase,:]*k\n",
    "    for rowchange in range(shape[0]):\n",
    "        if rowchange != outofbase:\n",
    "            k1 = martrix[rowchange, intobase]\n",
    "            martrix[rowchange,:] = martrix[rowchange,:] - martrix[outofbase,:]*k1\n",
    "            \n",
    "        \n",
    "    martrixchange = martrix\n",
    "    return martrixchange\n",
    "martrix = MartrixChange(martrix, outofbase, intobase)\n",
    "print(martrix)"
   ]
  },
  {
   "cell_type": "code",
   "execution_count": 4,
   "id": "3d4d254b",
   "metadata": {},
   "outputs": [
    {
     "name": "stdout",
     "output_type": "stream",
     "text": [
      "输入标准化后目标函数各变量的系数1,2,3,-1\n",
      "[-1000, 3.0, -1000]\n"
     ]
    }
   ],
   "source": [
    "c=[-1000,-1000,-1000]\n",
    "outofbase=1\n",
    "intobase=2\n",
    "coefficient = input('输入标准化后目标函数各变量的系数').split(',')\n",
    "coefficient = [float(x) for x in coefficient]\n",
    "c[outofbase] = coefficient[intobase]\n",
    "print(c)"
   ]
  },
  {
   "cell_type": "code",
   "execution_count": 5,
   "id": "ccf5021b",
   "metadata": {},
   "outputs": [
    {
     "name": "stdout",
     "output_type": "stream",
     "text": [
      "False\n"
     ]
    }
   ],
   "source": [
    "conditionnum=5\n",
    "base=[4,3,5]\n",
    "print(Judge1(conditionnum,base)==False)"
   ]
  },
  {
   "cell_type": "code",
   "execution_count": null,
   "id": "81b6ce35",
   "metadata": {},
   "outputs": [],
   "source": []
  }
 ],
 "metadata": {
  "kernelspec": {
   "display_name": "Python 3 (ipykernel)",
   "language": "python",
   "name": "python3"
  },
  "language_info": {
   "codemirror_mode": {
    "name": "ipython",
    "version": 3
   },
   "file_extension": ".py",
   "mimetype": "text/x-python",
   "name": "python",
   "nbconvert_exporter": "python",
   "pygments_lexer": "ipython3",
   "version": "3.7.9"
  }
 },
 "nbformat": 4,
 "nbformat_minor": 5
}
